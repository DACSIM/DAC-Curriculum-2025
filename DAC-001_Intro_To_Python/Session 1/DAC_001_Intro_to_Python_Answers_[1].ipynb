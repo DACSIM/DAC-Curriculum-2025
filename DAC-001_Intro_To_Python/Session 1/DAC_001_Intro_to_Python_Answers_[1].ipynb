{
  "cells": [
    {
      "cell_type": "markdown",
      "source": [
        "# DACademy Session 1: Basic GitHub + Intro to Python\n"
      ],
      "metadata": {
        "id": "XB1Co0jipXyX"
      }
    },
    {
      "cell_type": "markdown",
      "metadata": {
        "id": "kdzTsQtK0YPu"
      },
      "source": [
        "## Comments and Print Statements:"
      ]
    },
    {
      "cell_type": "code",
      "execution_count": 28,
      "metadata": {
        "id": "v-2yQ1QS0YPu",
        "colab": {
          "base_uri": "https://localhost:8080/"
        },
        "outputId": "a2e85001-bfec-43de-dd2b-1c0e5be26da3"
      },
      "outputs": [
        {
          "output_type": "stream",
          "name": "stdout",
          "text": [
            "Hello World\n"
          ]
        }
      ],
      "source": [
        "# Welcome to DAC!\n",
        "# Single-line comments use the ______\n",
        "# Comments are useful for explaining code or for temporary debugging\n",
        "\n",
        "\"\"\"\n",
        "Multi-line comments are created using ______\n",
        "They can span multiple lines and are often used for detailed explanations or documentation.\n",
        "Hi hi hi hi hi\n",
        "\"\"\"\n",
        "\n",
        "# The print() function is used to display output\n",
        "\n",
        "print(\"Hello World\")"
      ]
    },
    {
      "cell_type": "markdown",
      "source": [
        "**Keyboard Shortcuts to Run Code**\n",
        "\n",
        "\n",
        "*   Mac: Command (⌘) + Enter\n",
        "*   Windows: Ctrl + Enter\n"
      ],
      "metadata": {
        "id": "8Cy9F5sHZ4-B"
      }
    },
    {
      "cell_type": "code",
      "source": [
        "# Now try printing your name!\n",
        "\n",
        "print(\"Elly\")"
      ],
      "metadata": {
        "id": "0Iyg-UKUZsLy",
        "colab": {
          "base_uri": "https://localhost:8080/"
        },
        "outputId": "06e69ebb-0f55-44ff-e6b2-63b3d72e11d8"
      },
      "execution_count": 29,
      "outputs": [
        {
          "output_type": "stream",
          "name": "stdout",
          "text": [
            "Elly\n"
          ]
        }
      ]
    },
    {
      "cell_type": "markdown",
      "metadata": {
        "id": "xyKWUB-Q0YPv"
      },
      "source": [
        "## Basic Arithmetic Operations and Data Types"
      ]
    },
    {
      "cell_type": "code",
      "source": [
        "# Arithmetic Operators: + - * / % **\n",
        "\n",
        "# Addition +\n",
        "print(7+3)\n",
        "\n",
        "# Subtraction -\n",
        "print(7-3)\n",
        "\n",
        "# Multiplication *\n",
        "print(7*3)\n",
        "\n",
        "# Division /\n",
        "print(7/3)\n",
        "\n",
        "# Modulo % (Gives the remainder of division, e.g., 8 % 3 = 2)\n",
        "print(7%3)\n",
        "\n",
        "# Exponentiation **\n",
        "print(7**3)"
      ],
      "metadata": {
        "id": "dvXP5FTPdLFk",
        "colab": {
          "base_uri": "https://localhost:8080/"
        },
        "outputId": "1535321b-3df1-4be9-fefb-549924d70efa"
      },
      "execution_count": 30,
      "outputs": [
        {
          "output_type": "stream",
          "name": "stdout",
          "text": [
            "10\n",
            "4\n",
            "21\n",
            "2.3333333333333335\n",
            "1\n",
            "343\n"
          ]
        }
      ]
    },
    {
      "cell_type": "code",
      "execution_count": 31,
      "metadata": {
        "id": "8dNEkPQ30YPw",
        "colab": {
          "base_uri": "https://localhost:8080/"
        },
        "outputId": "f6d16cef-e15f-4c4b-b73b-a2a618454183"
      },
      "outputs": [
        {
          "output_type": "stream",
          "name": "stdout",
          "text": [
            "meow meow meow\n",
            "meow meow meow\n",
            "!@#$%jkwewuorweprh6546846515648646546\n",
            "7\n",
            "4294967296\n",
            "3.14\n",
            "(1+2j)\n"
          ]
        }
      ],
      "source": [
        "# Text inside quotes is known as a string\n",
        "# Can use either \"\" or '', both work the same\n",
        "print(\"meow meow meow\")\n",
        "print('meow meow meow')\n",
        "\n",
        "# This is to show you that the string can contain any special characters\n",
        "print(\"!@#$%jkwewuorweprh6546846515648646546\")\n",
        "\n",
        "# Integers are whole numbers\n",
        "print(7)\n",
        "\n",
        "# Long Integers (Python automatically handles big integers)\n",
        "print(2**32)\n",
        "\n",
        "# Floats represent decimal numbers\n",
        "print(3.14)\n",
        "\n",
        "# Complex Numbers use 'j' to represent the imaginary part\n",
        "print(1+2j)"
      ]
    },
    {
      "cell_type": "markdown",
      "metadata": {
        "id": "DmJBgrZy0YPw"
      },
      "source": [
        "## Boolean\n",
        "*   Booleans represent one of two values: True or False.\n",
        "\n"
      ]
    },
    {
      "cell_type": "code",
      "execution_count": 32,
      "metadata": {
        "id": "tUXDV62x0YPw",
        "colab": {
          "base_uri": "https://localhost:8080/"
        },
        "outputId": "11f86eaa-5659-42ca-be3e-d13efe855331"
      },
      "outputs": [
        {
          "output_type": "stream",
          "name": "stdout",
          "text": [
            "False\n"
          ]
        }
      ],
      "source": [
        "\n",
        "  # Modulus operation gives the remainder of 10 divided by 3 (which is 1)\n",
        "  # bool() converts the result of the comparison to True or False\n",
        "  # This will print False since 5 is not equal to 1\n",
        "\n",
        "  a = 5\n",
        "  b = 10\n",
        "  print(bool(a == b))"
      ]
    },
    {
      "cell_type": "code",
      "source": [
        "# Equals ==\n",
        "print(5==5)\n",
        "print(5==6)\n",
        "\n",
        "# Inqual !=\n",
        "print(5!=5)\n",
        "print(5!=6)\n",
        "\n",
        "# Greater than >\n",
        "print(5>5)\n",
        "print(5>6)\n",
        "\n",
        "# Less than <\n",
        "print(5<5)\n",
        "print(5<6)\n",
        "\n",
        "# More than and equal to >=\n",
        "print(5 >= 6)\n",
        "\n",
        "# Less than <\n",
        "\n",
        "# Less than and equal to <="
      ],
      "metadata": {
        "id": "rMT50ucpfk8k",
        "colab": {
          "base_uri": "https://localhost:8080/"
        },
        "outputId": "786989e7-03e1-4bf2-a25c-f46338080d12"
      },
      "execution_count": 33,
      "outputs": [
        {
          "output_type": "stream",
          "name": "stdout",
          "text": [
            "True\n",
            "False\n",
            "False\n",
            "True\n",
            "False\n",
            "False\n",
            "False\n",
            "True\n",
            "False\n"
          ]
        }
      ]
    },
    {
      "cell_type": "code",
      "source": [
        "# Using Boolean to find the Data Type of a Variable\n",
        "# Use type() to find the data type of a value or variable\n",
        "\n",
        "# A Boolean value can be either True or False.\n",
        "# This checks the type of 'a' and will return <class 'bool'\n",
        "\n",
        "a = True\n",
        "print(type(a))\n",
        "\n",
        "# Checking the type of a string\n",
        "# This will return <class 'str'>, indicating it's a string.\n",
        "\n",
        "print(type(\"hello\"))\n",
        "\n",
        "# Checking the type of an integer\n",
        "# This will return <class 'int'>, indicating it's an integer.\n",
        "\n",
        "print(type(7836294))\n"
      ],
      "metadata": {
        "id": "DuSwiBLf4FbJ",
        "colab": {
          "base_uri": "https://localhost:8080/"
        },
        "outputId": "95280e37-e7a9-4314-f44f-e9e6a2e9c9cb"
      },
      "execution_count": 34,
      "outputs": [
        {
          "output_type": "stream",
          "name": "stdout",
          "text": [
            "<class 'bool'>\n",
            "<class 'str'>\n",
            "<class 'int'>\n"
          ]
        }
      ]
    },
    {
      "cell_type": "markdown",
      "source": [
        "## Converting Data types"
      ],
      "metadata": {
        "id": "UHZRrqmecVhV"
      }
    },
    {
      "cell_type": "code",
      "source": [
        "# Convert a float to an integer\n",
        "  # Output: 6\n",
        "print(int(6.73749238490))\n",
        "\n",
        "# Convert an integer to a float\n",
        "  # Output: 3.0\n",
        "print(float(3))\n",
        "\n",
        "# Convert an integer to a string and print its type\n",
        "  # Output: <class 'str'>\n",
        "print(type(str(3)))\n",
        "\n",
        "# Convert a non-zero integer to a boolean\n",
        "  # Output: True (Any non-zero value is considered True\n",
        "print(bool(5))\n",
        "\n",
        "# Note on variable naming:\n",
        "# It's best to avoid using function names as variable names to prevent confusion.\n",
        "  # Use descriptive names for clarity\n",
        "decimal_value = 3.142\n",
        "print(decimal_value)\n",
        "\n",
        "\n",
        "  # Keep the variable name clear and relevant\n",
        "number = 5\n",
        "print(number)\n",
        "\n"
      ],
      "metadata": {
        "id": "lRjGQ9i_cQsH",
        "colab": {
          "base_uri": "https://localhost:8080/"
        },
        "outputId": "f0610189-59e7-4ec1-ab3f-e4968f058635"
      },
      "execution_count": 35,
      "outputs": [
        {
          "output_type": "stream",
          "name": "stdout",
          "text": [
            "6\n",
            "3.0\n",
            "<class 'str'>\n",
            "True\n",
            "3.142\n",
            "5\n"
          ]
        }
      ]
    },
    {
      "cell_type": "markdown",
      "metadata": {
        "id": "ixpdw3X90YPx"
      },
      "source": [
        "## Sequence Types: Strings, Lists, and Tuples"
      ]
    },
    {
      "cell_type": "markdown",
      "metadata": {
        "id": "FS4VoI660YPx"
      },
      "source": [
        "### Working with Strings"
      ]
    },
    {
      "cell_type": "code",
      "execution_count": 36,
      "metadata": {
        "id": "cVENYK1E0YPx",
        "colab": {
          "base_uri": "https://localhost:8080/"
        },
        "outputId": "4bc9608c-fe8c-4edc-f781-c64594ff5ac0"
      },
      "outputs": [
        {
          "output_type": "stream",
          "name": "stdout",
          "text": [
            "Elly\n",
            "Elly H.\n",
            "Elly H.\n"
          ]
        }
      ],
      "source": [
        "# Creating strings\n",
        "name = \"Elly\"\n",
        "print(name)\n",
        "\n",
        "# Combining strings\n",
        "  # Remember to include spaces within the quotes; otherwise, the result will be \"JunYo\" instead of \"Jun Yo\".\n",
        "last_name = \"H.\"\n",
        "print(name + \" \" + last_name)\n",
        "\n",
        "# Alternative Method for String Formatting\n",
        "  # The numbers {0} and {1} correspond to the respective order of the variables: Jun = 0, Yo = 1.\n",
        "\n",
        "print(\"{0} {1}\".format(name, last_name))"
      ]
    },
    {
      "cell_type": "markdown",
      "metadata": {
        "id": "Do3QkLBS0YPy"
      },
      "source": [
        "### Working with Lists\n",
        "\n",
        "*   [ ]\n",
        "*   It is used to store multiple items in a single variable\n",
        "\n"
      ]
    },
    {
      "cell_type": "markdown",
      "source": [
        "Just some things to note\n",
        "\n",
        "(Example)\n",
        "In the list: list4 = [3, 1, 4, 1, 5]\n",
        "\n",
        "*   **list4** is the **variable** that stores the list.\n",
        "*   **3, 1, 4, 1, 5** are the **elements** in the list.\n",
        "*   **Indexes** represent the **position** of each element, **starting from 0:**\n",
        "     *   '3' is at index 0\n",
        "     *   '1' is at index 1\n",
        "     *   '4' is at index 2\n",
        "     *   '1' is at index 3\n",
        "     *   '5' is at index 4\n",
        "\n",
        "\n",
        "\n",
        "\n",
        "\n",
        "\n",
        "\n",
        "\n",
        "\n",
        "\n",
        "\n",
        "\n",
        "\n",
        "\n"
      ],
      "metadata": {
        "id": "UJljv0JyI3MJ"
      }
    },
    {
      "cell_type": "code",
      "source": [
        " # Empty list\n",
        "list1 = []\n",
        "print(list1)\n",
        "\n",
        "list2 = [\"M\", \"E\", \"O\", \"W\"]\n",
        "print(list2)\n",
        "\n",
        "mixedList = [True, \"Slay\", 173, 3.14] # List with different data types\n",
        "print(mixedList)"
      ],
      "metadata": {
        "id": "g8SngCyXoqGt",
        "colab": {
          "base_uri": "https://localhost:8080/"
        },
        "outputId": "bd360538-f883-41f2-9c2c-96e12c3798f0"
      },
      "execution_count": 37,
      "outputs": [
        {
          "output_type": "stream",
          "name": "stdout",
          "text": [
            "[]\n",
            "['M', 'E', 'O', 'W']\n",
            "[True, 'Slay', 173, 3.14]\n"
          ]
        }
      ]
    },
    {
      "cell_type": "code",
      "source": [
        "# Adding elements to a list using the above variables\n",
        "\n",
        "  # Adding an integer to the list\n",
        "  # Adding a string to the list\n",
        "  # Output: [1, \"AHH\"]\n",
        "\n",
        "list1.append(1)\n",
        "print(list1)\n",
        "\n",
        "  # Adding a string to the mixed list\n",
        "  # Output: [True, 'Slay', 173, 3.14, 'AHH']\n",
        "\n",
        "mixedList.append(\"AHH\")\n",
        "print(mixedList)\n",
        "\n",
        "\"\"\"\n",
        "Note on the append() method:\n",
        "\n",
        "The append() method adds the element to the end of the list each time it is executed.\n",
        "Calling append() multiple times (i.e., running this code again) will continue to add the elements to the existing list, rather than starting over.\n",
        "(So, the same element will be added twice if you run the code twice, three times if you run it three times, and so on.)\n",
        "To reset the list, you can reinitialize it (rerun the code from the beginning).\n",
        "\"\"\""
      ],
      "metadata": {
        "colab": {
          "base_uri": "https://localhost:8080/",
          "height": 105
        },
        "id": "WgtIoTQapNJC",
        "outputId": "db1357c5-cfd2-419a-b14b-efc8d6c02081"
      },
      "execution_count": 38,
      "outputs": [
        {
          "output_type": "stream",
          "name": "stdout",
          "text": [
            "[1]\n",
            "[True, 'Slay', 173, 3.14, 'AHH']\n"
          ]
        },
        {
          "output_type": "execute_result",
          "data": {
            "text/plain": [
              "'\\nNote on the append() method:\\n\\nThe append() method adds the element to the end of the list each time it is executed.\\nCalling append() multiple times (i.e., running this code again) will continue to add the elements to the existing list, rather than starting over.\\n(So, the same element will be added twice if you run the code twice, three times if you run it three times, and so on.)\\nTo reset the list, you can reinitialize it (rerun the code from the beginning).\\n'"
            ],
            "application/vnd.google.colaboratory.intrinsic+json": {
              "type": "string"
            }
          },
          "metadata": {},
          "execution_count": 38
        }
      ]
    },
    {
      "cell_type": "code",
      "execution_count": 39,
      "metadata": {
        "id": "EhMqwM-w0YPy",
        "colab": {
          "base_uri": "https://localhost:8080/"
        },
        "outputId": "e00a287d-4a05-4dc9-cd68-dde996adc000"
      },
      "outputs": [
        {
          "output_type": "stream",
          "name": "stdout",
          "text": [
            "[2, 1]\n"
          ]
        }
      ],
      "source": [
        "# Inserting elements into a list at a specific position\n",
        "# Syntax: list_.insert(position, item)\n",
        "\n",
        "list1.insert(0, 2)\n",
        "print(list1)\n",
        "\n",
        "# Output: [2, 1]\n",
        "\n",
        "  # Insert the number 50 at the 0th index (1st number is the position, 2nd is the element to add)\n",
        "  # Output will show 50 at the start of the list"
      ]
    },
    {
      "cell_type": "code",
      "source": [
        "# Deleting elements from a list\n",
        "\n",
        "del list1[1]\n",
        "print(list1)\n",
        "\n",
        "# Output: [1]\n",
        "\n",
        "# Using `del` to delete by index\n",
        "  # Deletes the element at index 0 (1st element in the list)\n",
        "  # Output: List with the 1st element removed"
      ],
      "metadata": {
        "id": "NYr5u52Rwy6h",
        "colab": {
          "base_uri": "https://localhost:8080/"
        },
        "outputId": "0f66003e-e359-409b-ede1-9a18050f1a68"
      },
      "execution_count": 40,
      "outputs": [
        {
          "output_type": "stream",
          "name": "stdout",
          "text": [
            "[2]\n"
          ]
        }
      ]
    },
    {
      "cell_type": "code",
      "source": [
        "# Alternative Method for Deleting elements from a list\n",
        "\n",
        "# Using `remove()` to delete by value\n",
        "  # Removes the first occurrence of the value 50 from the list\n",
        "  # Output: List without the first 50\n",
        "\n",
        "mixedList.remove(\"AHH\")\n",
        "print(mixedList)"
      ],
      "metadata": {
        "id": "Q05F_xXdFdpx",
        "colab": {
          "base_uri": "https://localhost:8080/"
        },
        "outputId": "6ea311df-d30f-4a56-cb9a-1457b2bfaed8"
      },
      "execution_count": 41,
      "outputs": [
        {
          "output_type": "stream",
          "name": "stdout",
          "text": [
            "[True, 'Slay', 173, 3.14]\n"
          ]
        }
      ]
    },
    {
      "cell_type": "code",
      "source": [
        "# List Indexing\n",
        "\n",
        "list4 = [3,1,4,1,5]\n",
        "index_list4 = list4.index(3)\n",
        "print(index_list4)\n",
        "\n",
        "  # Finds the index position of the element '3' in the list\n",
        "  # Output: 0 (since '3' is at the 0th index)"
      ],
      "metadata": {
        "id": "Qxd8-H6oG0a0",
        "colab": {
          "base_uri": "https://localhost:8080/"
        },
        "outputId": "0b0d89cb-8acb-4fca-b455-340f40e9c391"
      },
      "execution_count": 42,
      "outputs": [
        {
          "output_type": "stream",
          "name": "stdout",
          "text": [
            "0\n"
          ]
        }
      ]
    },
    {
      "cell_type": "code",
      "source": [
        "# Finding minimum and maximum values in a list\n",
        "  # Use the min() function to find the smallest element in list4\n",
        "  # Use the max() function to find the largest element in list4\n",
        "\n",
        "min_list4 = min(list4)\n",
        "print(min_list4)\n",
        "\n",
        "max_list4 = max(list4)\n",
        "print(max_list4)\n",
        "\n",
        "# With labels\n",
        "  # Output the minimum value\n",
        "print(\"Minimum Value:\", min_list4)\n",
        "print(\"Maximum Value:\", max_list4)\n",
        "  # Output the maximum value"
      ],
      "metadata": {
        "id": "JTsF0nfmSINs",
        "colab": {
          "base_uri": "https://localhost:8080/"
        },
        "outputId": "0a4e8441-4832-4608-f94f-8a95b092afcf"
      },
      "execution_count": 43,
      "outputs": [
        {
          "output_type": "stream",
          "name": "stdout",
          "text": [
            "1\n",
            "5\n",
            "Minimum Value: 1\n",
            "Maximum Value: 5\n"
          ]
        }
      ]
    },
    {
      "cell_type": "code",
      "source": [
        "listNum = [4, 2, 1, 3, 6, 5, 7]\n",
        "\n",
        "sorted_listNum = sorted(listNum)\n",
        "print(sorted_listNum)\n",
        "\n",
        "# Output: [1, 2, 3, 4, 5, 6, 7]\n",
        "\n",
        " # Use the sorted() function to sort the list\n",
        " # Output the sorted list"
      ],
      "metadata": {
        "id": "vc5SVEzvBK33",
        "colab": {
          "base_uri": "https://localhost:8080/"
        },
        "outputId": "50952e7e-a745-4a91-d459-6539ff441a53"
      },
      "execution_count": 44,
      "outputs": [
        {
          "output_type": "stream",
          "name": "stdout",
          "text": [
            "[1, 2, 3, 4, 5, 6, 7]\n"
          ]
        }
      ]
    },
    {
      "cell_type": "code",
      "source": [
        "listNum2 = [4, 2, 1, 3, 6, 5, 7]\n",
        "\n",
        "listNum2.reverse()\n",
        "\n",
        "print(listNum2)\n",
        "\n",
        " # Reverse listNum2\n",
        " # Otput the reversed list"
      ],
      "metadata": {
        "id": "dI6AzeKIBrvB",
        "colab": {
          "base_uri": "https://localhost:8080/"
        },
        "outputId": "fe8daa8d-13b0-4d7b-a4a2-f4aedfc63c4c"
      },
      "execution_count": 45,
      "outputs": [
        {
          "output_type": "stream",
          "name": "stdout",
          "text": [
            "[7, 5, 6, 3, 1, 2, 4]\n"
          ]
        }
      ]
    },
    {
      "cell_type": "code",
      "source": [
        "listNum2 = [4, 2, 1, 3, 6, 5, 7]\n",
        "\n",
        "listNum2.clear()\n",
        "print(listNum2)\n",
        " # Clear all elements from the list\n",
        " # Print the cleared list"
      ],
      "metadata": {
        "id": "zlonSikNCFQj",
        "colab": {
          "base_uri": "https://localhost:8080/"
        },
        "outputId": "30a63c97-5640-4eec-bc49-b23a4579222a"
      },
      "execution_count": 46,
      "outputs": [
        {
          "output_type": "stream",
          "name": "stdout",
          "text": [
            "[]\n"
          ]
        }
      ]
    },
    {
      "cell_type": "code",
      "source": [
        "list5 = [\"M\", \"A\", \"X\"]\n",
        "list6 = [\"V\", \"E\", \"R\"]\n",
        "\n",
        "listAdded = list5 + list6\n",
        "print(listAdded)\n",
        "\n",
        " # Concatenate list5 and list6\n",
        " # Output the concatenated list\n",
        "\n",
        " # Add the two lists together\n",
        " # Output the added list"
      ],
      "metadata": {
        "id": "ZLm22sE7CJ_t",
        "colab": {
          "base_uri": "https://localhost:8080/"
        },
        "outputId": "e51adf09-8f78-4101-c685-ef1d3ab78cd6"
      },
      "execution_count": 47,
      "outputs": [
        {
          "output_type": "stream",
          "name": "stdout",
          "text": [
            "['M', 'A', 'X', 'V', 'E', 'R']\n"
          ]
        }
      ]
    },
    {
      "cell_type": "code",
      "source": [
        "listNames = [\"Daniel\", \"M\"]\n",
        "listMultiplied = listNames * 2\n",
        "print(listMultiplied)\n",
        " # Multiply the list by 2\n",
        " # Output the multiplied list"
      ],
      "metadata": {
        "id": "u3FYS3JZCgkc",
        "colab": {
          "base_uri": "https://localhost:8080/"
        },
        "outputId": "7a8354b0-44fa-4dc7-8d2e-94c1a7a855ec"
      },
      "execution_count": 48,
      "outputs": [
        {
          "output_type": "stream",
          "name": "stdout",
          "text": [
            "['Daniel', 'M', 'Daniel', 'M']\n"
          ]
        }
      ]
    },
    {
      "cell_type": "markdown",
      "source": [
        "### Working with Tuples\n",
        "- Immutable\n",
        "- It is a ordered sequence of values"
      ],
      "metadata": {
        "id": "_YLFb-WGDCs8"
      }
    },
    {
      "cell_type": "code",
      "execution_count": 49,
      "metadata": {
        "id": "kwrmo-XJ0YPy",
        "colab": {
          "base_uri": "https://localhost:8080/"
        },
        "outputId": "85cd9453-0ee1-44f4-8075-d0dc9d71a1d4"
      },
      "outputs": [
        {
          "output_type": "stream",
          "name": "stdout",
          "text": [
            "('If you dance', 'Ill dance')\n",
            "<class 'tuple'>\n"
          ]
        }
      ],
      "source": [
        "\n",
        "dance = ('If you dance', 'Ill dance')\n",
        "print(dance)\n",
        "print(type(dance))\n"
      ]
    },
    {
      "cell_type": "code",
      "source": [
        "tuplelist = list(dance)\n",
        "print(tuplelist)\n",
        "print(type(tuplelist))\n",
        " # Output the list\n",
        " # Check the type of 'tuplelist'"
      ],
      "metadata": {
        "id": "K_PTgd_aEKEI",
        "colab": {
          "base_uri": "https://localhost:8080/"
        },
        "outputId": "f4648e17-0995-42ec-ee2a-9f87c9d4cb57"
      },
      "execution_count": 50,
      "outputs": [
        {
          "output_type": "stream",
          "name": "stdout",
          "text": [
            "['If you dance', 'Ill dance']\n",
            "<class 'list'>\n"
          ]
        }
      ]
    },
    {
      "cell_type": "code",
      "source": [
        "tuplelist.append(\"but if you dont ill dance anyway\")\n",
        "print(tuplelist)"
      ],
      "metadata": {
        "colab": {
          "base_uri": "https://localhost:8080/"
        },
        "id": "dkE7ClC7uDMj",
        "outputId": "17ceb180-948c-4fe8-ebc8-c83d33ca1ae5"
      },
      "execution_count": 51,
      "outputs": [
        {
          "output_type": "stream",
          "name": "stdout",
          "text": [
            "['If you dance', 'Ill dance', 'but if you dont ill dance anyway']\n"
          ]
        }
      ]
    },
    {
      "cell_type": "code",
      "source": [
        " # Convert the list 'tuplelist' back to a tuple\n",
        " # Check the value of the new tuple\n",
        "\n",
        "new_tuple = tuple(tuplelist)\n",
        "print(new_tuple)"
      ],
      "metadata": {
        "id": "32Wg2x89GuXA",
        "colab": {
          "base_uri": "https://localhost:8080/"
        },
        "outputId": "fd42081d-031e-4ab0-e4ce-97dcae4948c8"
      },
      "execution_count": 52,
      "outputs": [
        {
          "output_type": "stream",
          "name": "stdout",
          "text": [
            "('If you dance', 'Ill dance', 'but if you dont ill dance anyway')\n"
          ]
        }
      ]
    },
    {
      "cell_type": "code",
      "source": [
        " # Get the length of the list 'tuplelist'\n",
        " # Output of the length\n",
        "\n",
        "length_tuplelist = len(tuplelist)\n",
        "print(length_tuplelist)"
      ],
      "metadata": {
        "id": "SS3bxGkbG-vl",
        "colab": {
          "base_uri": "https://localhost:8080/"
        },
        "outputId": "18c825be-ff0e-43b1-d815-92e0fe5a93e7"
      },
      "execution_count": 53,
      "outputs": [
        {
          "output_type": "stream",
          "name": "stdout",
          "text": [
            "3\n"
          ]
        }
      ]
    },
    {
      "cell_type": "markdown",
      "metadata": {
        "id": "ZCXp6Jhg0YPy"
      },
      "source": [
        "## Working with Sets\n",
        "\n",
        "{ }\n",
        "- It is an unordered collection with no duplicate elements\n",
        "- Computer implementation of the mathematical concept of a finite set\n",
        "- Mutable"
      ]
    },
    {
      "cell_type": "code",
      "execution_count": 54,
      "metadata": {
        "id": "B5vdCq3P0YPy",
        "colab": {
          "base_uri": "https://localhost:8080/"
        },
        "outputId": "691e807b-c5c0-4bf6-957a-ea56ec40fec7"
      },
      "outputs": [
        {
          "output_type": "stream",
          "name": "stdout",
          "text": [
            "{'mouse', 'dog', 'cat'}\n",
            "<class 'set'>\n"
          ]
        }
      ],
      "source": [
        "x = {\"dog\", \"cat\", \"mouse\"}\n",
        "print(x)\n",
        "print(type(x))\n",
        " # Output of the set"
      ]
    },
    {
      "cell_type": "code",
      "source": [
        " # Add an element to the set\n",
        " # Output of the updated set\n",
        "\n",
        "x.add(\"bird\")\n",
        "print(x)"
      ],
      "metadata": {
        "id": "VgrBbY_1HrNx",
        "colab": {
          "base_uri": "https://localhost:8080/"
        },
        "outputId": "ee0501a4-4859-4cf5-af40-d2417931b1a7"
      },
      "execution_count": 55,
      "outputs": [
        {
          "output_type": "stream",
          "name": "stdout",
          "text": [
            "{'bird', 'mouse', 'dog', 'cat'}\n"
          ]
        }
      ]
    },
    {
      "cell_type": "code",
      "source": [
        " # Remove an element from the set\n",
        " # Output of the updated set\n",
        "\n",
        "x.remove(\"mouse\")\n",
        "print(x)"
      ],
      "metadata": {
        "id": "MbMyt-oQH80_",
        "colab": {
          "base_uri": "https://localhost:8080/"
        },
        "outputId": "a0447641-b306-4145-b3f5-4b2c60d6d542"
      },
      "execution_count": 56,
      "outputs": [
        {
          "output_type": "stream",
          "name": "stdout",
          "text": [
            "{'bird', 'dog', 'cat'}\n"
          ]
        }
      ]
    },
    {
      "cell_type": "code",
      "source": [
        "z = {(1,2,3), \"he he he\", 2, 4.3}\n",
        "print(z)\n",
        " # Output of the set"
      ],
      "metadata": {
        "id": "Z6V43JC2IaLt",
        "colab": {
          "base_uri": "https://localhost:8080/"
        },
        "outputId": "89dfa28f-2b5c-4e22-debd-d0c1d4b39714"
      },
      "execution_count": 57,
      "outputs": [
        {
          "output_type": "stream",
          "name": "stdout",
          "text": [
            "{2, (1, 2, 3), 'he he he', 4.3}\n"
          ]
        }
      ]
    },
    {
      "cell_type": "code",
      "source": [
        "r = [1,2,3,4,5,6,4]\n",
        "print(r)\n",
        " # Output of the original list\n",
        "\n",
        "r_set = set(r) # Convert the list to a set (to remove duplicates)\n",
        "print(r_set) # Output of the converted set\n",
        "\n",
        "\n",
        "type_of_r_set = type(r_set) # Check the data type of r_set\n",
        "print(type_of_r_set) # Output of the converted set"
      ],
      "metadata": {
        "id": "sdYsD2okI5cZ",
        "colab": {
          "base_uri": "https://localhost:8080/"
        },
        "outputId": "ac3f6355-c22a-40fc-9a5e-c2d8717d8f49"
      },
      "execution_count": 58,
      "outputs": [
        {
          "output_type": "stream",
          "name": "stdout",
          "text": [
            "[1, 2, 3, 4, 5, 6, 4]\n",
            "{1, 2, 3, 4, 5, 6}\n",
            "<class 'set'>\n"
          ]
        }
      ]
    },
    {
      "cell_type": "markdown",
      "metadata": {
        "id": "fEkjRhbC0YPy"
      },
      "source": [
        "## Working with Dictionaries"
      ]
    },
    {
      "cell_type": "code",
      "execution_count": 59,
      "metadata": {
        "id": "YJCVMWae0YPy",
        "colab": {
          "base_uri": "https://localhost:8080/"
        },
        "outputId": "4c5f5870-722f-4dc5-a34e-b21add184ddb"
      },
      "outputs": [
        {
          "output_type": "stream",
          "name": "stdout",
          "text": [
            "{'first_name': 'Elly', 'last_name': 'H.', 'age': 30, 'city': 'London', 'student': True}\n",
            "Last Name: H.\n",
            "First Name: Elly\n"
          ]
        }
      ],
      "source": [
        "# Creating a dictionary to store information about a person\n",
        "person = {\n",
        "    \"first_name\": \"Elly\",\n",
        "    \"last_name\": \"H.\",\n",
        "    \"age\": 30,\n",
        "    \"city\": \"London\",\n",
        "    \"student\": True\n",
        "}\n",
        "\n",
        "print(person) # Outputs the entire dictionary\n",
        "\n",
        "# Accessing a specific value using the key\n",
        "print(\"Last Name:\", person[\"last_name\"])\n",
        "\n",
        "# Using the get() method to retrieve a value safely\n",
        "first_name = person.get(\"first_name\")\n",
        "print(\"First Name:\", first_name)\n"
      ]
    }
  ],
  "metadata": {
    "kernelspec": {
      "display_name": "Python 3",
      "language": "python",
      "name": "python3"
    },
    "language_info": {
      "codemirror_mode": {
        "name": "ipython",
        "version": 3
      },
      "file_extension": ".py",
      "mimetype": "text/x-python",
      "name": "python",
      "nbconvert_exporter": "python",
      "pygments_lexer": "ipython3",
      "version": "3.11.5"
    },
    "colab": {
      "provenance": [],
      "collapsed_sections": [
        "FS4VoI660YPx"
      ]
    }
  },
  "nbformat": 4,
  "nbformat_minor": 0
}