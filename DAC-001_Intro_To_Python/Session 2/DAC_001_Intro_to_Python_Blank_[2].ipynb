{
  "cells": [
    {
      "cell_type": "markdown",
      "source": [
        "# DACademy Session 2: Continuation of Intro to Python\n"
      ],
      "metadata": {
        "id": "XB1Co0jipXyX"
      }
    },
    {
      "cell_type": "markdown",
      "source": [
        "### Working with Dictionaries\n",
        "* used to store data values in key : value pairs\n",
        "* collection which is ordered, changeable, does not allow duplicates\n",
        "* Real - Life Examples: storing submitted personal data (name, age, date of birth etc.)\n",
        "\n"
      ],
      "metadata": {
        "id": "9CjKnsi6a4bx"
      }
    },
    {
      "cell_type": "code",
      "source": [
        "# Empty Dictionary\n",
        "\n"
      ],
      "metadata": {
        "id": "CQYQ_s9EfPce"
      },
      "execution_count": 18,
      "outputs": []
    },
    {
      "cell_type": "markdown",
      "metadata": {
        "id": "T6-IOUm20YP4"
      },
      "source": [
        "Creating a Dictionary"
      ]
    },
    {
      "cell_type": "code",
      "execution_count": 38,
      "metadata": {
        "id": "VqoCdg0z0YP4",
        "colab": {
          "base_uri": "https://localhost:8080/",
          "height": 36
        },
        "outputId": "f0089ed2-0c61-464f-fe26-232aa027a145"
      },
      "outputs": [
        {
          "output_type": "execute_result",
          "data": {
            "text/plain": [
              "' = {\\n    \"first_name\": \"\",\\n    \"last_name\": \"\",\\n    \"age\": ,\\n    \"tattoos\":\\n}'"
            ],
            "application/vnd.google.colaboratory.intrinsic+json": {
              "type": "string"
            }
          },
          "metadata": {},
          "execution_count": 38
        }
      ],
      "source": [
        "# Let's create a dictionary for your information\n",
        "\n",
        "\"\"\" = {\n",
        "    \"first_name\": \"\",\n",
        "    \"last_name\": \"\",\n",
        "    \"age\": ,\n",
        "    \"tattoos\":\n",
        "}\"\"\"\n",
        "\n",
        "# Print your information\n",
        "\n"
      ]
    },
    {
      "cell_type": "code",
      "source": [
        "#Let's print your last name\n"
      ],
      "metadata": {
        "id": "hcMqbuRyflGf"
      },
      "execution_count": 20,
      "outputs": []
    },
    {
      "cell_type": "code",
      "source": [
        "#Len Function for your name\n"
      ],
      "metadata": {
        "id": "Q2tMLWrmfw6g"
      },
      "execution_count": 21,
      "outputs": []
    },
    {
      "cell_type": "code",
      "source": [
        "#Let's find out what happens when a value not found in dictionary\n",
        "\n",
        "\n",
        "\n",
        "\n"
      ],
      "metadata": {
        "id": "8OKp7y9rgzFP"
      },
      "execution_count": 22,
      "outputs": []
    },
    {
      "cell_type": "markdown",
      "metadata": {
        "id": "v3J7hgZY0YPy"
      },
      "source": [
        "## Python Syntax"
      ]
    },
    {
      "cell_type": "markdown",
      "source": [
        "###Introduction"
      ],
      "metadata": {
        "id": "Zg9fo_epqrZG"
      }
    },
    {
      "cell_type": "markdown",
      "metadata": {
        "id": "w0bTPKnF0YPy"
      },
      "source": [
        "If Statement with String Formatting"
      ]
    },
    {
      "cell_type": "code",
      "execution_count": 39,
      "metadata": {
        "id": "YOytItTP0YPy"
      },
      "outputs": [],
      "source": [
        "# Let's start by defining a & b, and assigning them values\n",
        "a =\n",
        "b =\n",
        "\n",
        "# Next let's check if b is less than a\n",
        " # It is important to include the indentation, this code will only run when b < a"
      ]
    },
    {
      "cell_type": "markdown",
      "metadata": {
        "id": "aZtCeATJ0YPz"
      },
      "source": [
        "Else Statement"
      ]
    },
    {
      "cell_type": "code",
      "execution_count": 40,
      "metadata": {
        "id": "Gnsnpkpo0YPz"
      },
      "outputs": [],
      "source": [
        "# define a & b, and assign them values\n",
        "a =\n",
        "b =\n",
        "\n",
        "# Check if a is less than b\n",
        "\n",
        "  # If a is less than b, print this message\n",
        "\n",
        "else:\n",
        "  # Otherwise, print this message\n"
      ]
    },
    {
      "cell_type": "markdown",
      "metadata": {
        "id": "7gGzsQcx0YPz"
      },
      "source": [
        "Elif Statement"
      ]
    },
    {
      "cell_type": "code",
      "execution_count": 41,
      "metadata": {
        "id": "V2zzPm2V0YPz",
        "colab": {
          "base_uri": "https://localhost:8080/",
          "height": 54
        },
        "outputId": "25f5c859-41e5-48f8-d5d4-3c2ad9953b6c"
      },
      "outputs": [
        {
          "output_type": "execute_result",
          "data": {
            "text/plain": [
              "'# Define and assign values to three variables: a, b, and c\\na =\\nb =\\nc =\\n\\n# This code checks against three different conditions\\n\\n    # If a is less than c, print this message\\n\\n\\n    # If a is greater than c, print this message\\n\\n\\n    # If a and c are equal, print this message'"
            ],
            "application/vnd.google.colaboratory.intrinsic+json": {
              "type": "string"
            }
          },
          "metadata": {},
          "execution_count": 41
        }
      ],
      "source": [
        "# Define and assign values to three variables: a, b, and c\n",
        "a =\n",
        "b =\n",
        "c =\n",
        "\n",
        "# This code checks against three different conditions\n",
        "\n",
        "    # If a is less than c, print this message\n",
        "\n",
        "\n",
        "    # If a is greater than c, print this message\n",
        "\n",
        "\n",
        "    # If a and c are equal, print this message\"\"\"\n"
      ]
    },
    {
      "cell_type": "markdown",
      "source": [
        "###Range"
      ],
      "metadata": {
        "id": "9ztQ8lOSXRi4"
      }
    },
    {
      "cell_type": "markdown",
      "metadata": {
        "id": "CufYhBfR0YPz"
      },
      "source": [
        "Creating a List Using range()"
      ]
    },
    {
      "cell_type": "code",
      "execution_count": 42,
      "metadata": {
        "id": "1cUShSBH0YPz"
      },
      "outputs": [],
      "source": [
        "# This function will create a list of numbers from 0 to 9\n",
        "\n",
        "\n"
      ]
    },
    {
      "cell_type": "markdown",
      "metadata": {
        "id": "3XMFOpZK0YPz"
      },
      "source": [
        "Creating Lists with a Step Argument\n"
      ]
    },
    {
      "cell_type": "code",
      "execution_count": 25,
      "metadata": {
        "id": "WA1a-VVe0YPz"
      },
      "outputs": [],
      "source": [
        "# Let's create a list starting from 5 and ending at -5, with a step of -1\n",
        "\n",
        "\n"
      ]
    },
    {
      "cell_type": "markdown",
      "source": [
        "### Loops\n",
        "\n",
        "\n"
      ],
      "metadata": {
        "id": "f4lquamxW_Xs"
      }
    },
    {
      "cell_type": "markdown",
      "metadata": {
        "id": "yOXyVdxh0YPz"
      },
      "source": [
        "The range() Function: Understanding Its Role in Loop Iteration"
      ]
    },
    {
      "cell_type": "code",
      "execution_count": 26,
      "metadata": {
        "id": "oUhGT5-u0YPz"
      },
      "outputs": [],
      "source": [
        "# Now let's do a simple for loop that iterates over a range of numbers from 0 to 4\n",
        "\n",
        "    # Print the current value of i\n",
        "\n",
        "\n",
        "# Loop functions are usually used to make things more efficient:\n",
        "# They allow you to perform actions on multiple items without writing repetitive code."
      ]
    },
    {
      "cell_type": "markdown",
      "source": [
        "-"
      ],
      "metadata": {
        "id": "D0lCNWxaALyt"
      }
    },
    {
      "cell_type": "markdown",
      "source": [
        "**While Loop vs. For Loop**\n",
        "\n",
        "**While Loop:** Used when the number of iterations is not known in advance. It continues to execute as long as a specified condition is True.\n",
        "\n",
        "  *   Useful for situations where you don’t know how many times you need to iterate (e.g., reading user input until a certain command is given).\n",
        "\n",
        "\n",
        "\n",
        "\n",
        "**For Loop:** Used to iterate over a sequence (like a list, tuple, string, or range). It executes a fixed number of iterations, determined by the sequence length.\n",
        " *   Ideal for going through a known set of items (e.g., processing each item in a list)\n",
        "\n",
        "\n"
      ],
      "metadata": {
        "id": "ce1PB-8b9VqB"
      }
    },
    {
      "cell_type": "markdown",
      "source": [
        "-"
      ],
      "metadata": {
        "id": "XZvKtrxrAJVM"
      }
    },
    {
      "cell_type": "markdown",
      "metadata": {
        "id": "FGXwBeXB0YPz"
      },
      "source": [
        "**Loop Control Statements**"
      ]
    },
    {
      "cell_type": "markdown",
      "source": [
        "The following commands help you manage **loops**, which are **like instructions that repeat until you tell them to stop.**\n",
        "\n",
        "\n",
        "1. Break statement\n",
        "2. Continue statement\n",
        "3. Pass statement\n",
        "\n",
        "\n",
        "*   **Break**: This command stops the loop completely. You use it when you want to exit the loop early, like if you found what you were looking for or if something isn’t right.\n",
        "\n",
        "*   **Continue**: This command tells the loop to skip the rest of the current step and jump straight to the next round of instructions. You use it when you want to move on without finishing what was just started.\n",
        "\n",
        "*   **Pass**: This command tells the loop to skip the current step without doing anything and move on to the next one. You might use it when you want to ignore a certain part of the loop but still keep the loop going.\n",
        "\n",
        "\n",
        "\n",
        "\n",
        "\n",
        "\n",
        "\n",
        "\n",
        "\n",
        "\n",
        "They are mostly used to improve efficiency of the loop."
      ],
      "metadata": {
        "id": "sCpsVsMz9OJj"
      }
    },
    {
      "cell_type": "markdown",
      "source": [
        "Break statement: When external condition is triggered, you can exit the loop"
      ],
      "metadata": {
        "id": "3jwkcz2s5Cur"
      }
    },
    {
      "cell_type": "code",
      "execution_count": 27,
      "metadata": {
        "id": "nS2GB7vh0YPz",
        "colab": {
          "base_uri": "https://localhost:8080/"
        },
        "outputId": "3bfe4e61-6220-41ab-b655-5c40fcc3b7d8"
      },
      "outputs": [
        {
          "output_type": "stream",
          "name": "stdout",
          "text": [
            "The while loop ends here\n"
          ]
        }
      ],
      "source": [
        "# This is a while loop that prints numbers from 1 to 100.\n",
        "# The loop continues as long as n is less than or equal to 100.\n",
        "\n",
        "  # Initialize n to 1\n",
        "  # The loop will continue while n is less than or equal to 100\n",
        "    # Print the current value of n\n",
        "      # Increment n by 1\n",
        "     # If n is greater than 10, exit the loop\n",
        "         # Exit the loop\n",
        "\n",
        "print(\"The while loop ends here\")  # Indicate that the loop has finished"
      ]
    },
    {
      "cell_type": "markdown",
      "metadata": {
        "id": "zwNaJQTz0YPz"
      },
      "source": [
        "Continue Statement: When the external condition is triggered, you can skip over that part of the loop to complete the loop"
      ]
    },
    {
      "cell_type": "code",
      "execution_count": 28,
      "metadata": {
        "id": "ZIJIIRSS0YPz",
        "colab": {
          "base_uri": "https://localhost:8080/"
        },
        "outputId": "4daf093a-0076-4297-bbd6-7ac6526eeb3a"
      },
      "outputs": [
        {
          "output_type": "stream",
          "name": "stdout",
          "text": [
            "Loop ends here\n"
          ]
        }
      ],
      "source": [
        "# This is a for loop that iterates through numbers from 0 to 5.\n",
        "\n",
        "  # Loop through numbers 0 to 5\n",
        "     # If the current number is 4, skip to the next iteration\n",
        "\n",
        "      # Print the current number\n",
        "\n",
        "print(\"Loop ends here\")  # Indicate that the loop has finished"
      ]
    },
    {
      "cell_type": "markdown",
      "metadata": {
        "id": "LJ4kduRV0YPz"
      },
      "source": [
        "Pass Statement"
      ]
    },
    {
      "cell_type": "code",
      "execution_count": 29,
      "metadata": {
        "id": "QXb_9S0V0YP0",
        "colab": {
          "base_uri": "https://localhost:8080/"
        },
        "outputId": "e0ff5569-11f3-463d-8463-dca4471f0314"
      },
      "outputs": [
        {
          "output_type": "stream",
          "name": "stdout",
          "text": [
            "Out of loop\n"
          ]
        }
      ],
      "source": [
        "# This is a for loop that iterates through numbers from 0 to 5.\n",
        "\n",
        "  # Loop through numbers 0 to 5\n",
        "      # If the current number is 4, do nothing\n",
        "          # This means to skip any action for this iteration\n",
        "      # Print the current number\n",
        "\n",
        "print(\"Out of loop\")  # Indicate that the loop has finished"
      ]
    },
    {
      "cell_type": "code",
      "source": [
        "#using len with index\n",
        "list_a = [\"hi\",\"my\",\"name\",\"is\",\"Jeff\",\"Phone no:\",12345678]\n",
        "\n",
        "  print(i)\n",
        "  print(list_a[i])"
      ],
      "metadata": {
        "id": "DpCbYuSPecq3"
      },
      "execution_count": 43,
      "outputs": []
    },
    {
      "cell_type": "markdown",
      "source": [
        "## Exploring Dictionaries in Depth"
      ],
      "metadata": {
        "id": "2NQVOc-m7ylJ"
      }
    },
    {
      "cell_type": "markdown",
      "metadata": {
        "id": "AC6ybA0w0YP4"
      },
      "source": [
        "###Getting All Keys and Values"
      ]
    },
    {
      "cell_type": "code",
      "execution_count": 44,
      "metadata": {
        "id": "__4K12mg0YP4"
      },
      "outputs": [],
      "source": [
        "# Now let's retrieve all keys from the your dictionary you created in the beginning\n",
        "\n",
        "\n",
        "print(keys)\n",
        "\n",
        "# Retrieving all values from the Kaavya dictionary\n",
        "values\n",
        "\n",
        "print(values)"
      ]
    },
    {
      "cell_type": "code",
      "execution_count": 45,
      "metadata": {
        "id": "P-I18FlJ0YP5"
      },
      "outputs": [],
      "source": [
        "# Iterating through keys and values in the Kaavya dictionary\n",
        "\n",
        "\n",
        "    # Print the current key and its corresponding value\n",
        "    print(\"key = {0}, value = {1}\".format(key, value))"
      ]
    },
    {
      "cell_type": "code",
      "execution_count": 46,
      "metadata": {
        "id": "myq6oC8H0YP5"
      },
      "outputs": [],
      "source": [
        "# Let's create a dictionary to store student information with nested keys for scores\n",
        "\n",
        "sch_rec = {\n",
        "    \"name\": \"Ryan\",\n",
        "    \"grade\": 12,\n",
        "    \"score\": {\n",
        "        \"english\": 87,\n",
        "        \"math\": 90,\n",
        "        \"science\": 95,\n",
        "        \"mother tongue\": 55\n",
        "    }\n",
        "}\n",
        "\n",
        "print(sch_rec)\n",
        "\n",
        "# Accessing nested keys to retrieve the keys from the 'score' dictionary\n",
        "keys_nested =\n",
        "\n",
        "print(keys_nested)\n"
      ]
    },
    {
      "cell_type": "code",
      "source": [
        "#Using Items function to get an overview\n",
        "sch_rec2 = {\n",
        "    '001':{\"name\":\"Ryan\", \"grade\": 12, \"avg_score\": 95},\n",
        "    '002':{\"name\":\"Jaslyn\", \"grade\": 12, \"avg_score\": 90},\n",
        "    '003':{\"name\":\"Ronald\", \"grade\": 10, \"avg_score\": 55},\n",
        "    '004':{\"name\":\"Chad\", \"grade\": 9, \"avg_score\": 67},\n",
        "    '005':{\"name\":\"Joyce\", \"grade\": 8, \"avg_score\": 82.5},\n",
        "    '006':{\"name\":\"Amanda\", \"grade\": 11, \"avg_score\": 98}\n",
        "}\n",
        "\n",
        "#items function\n"
      ],
      "metadata": {
        "id": "0r2n_xzbgoEm"
      },
      "execution_count": 46,
      "outputs": []
    },
    {
      "cell_type": "markdown",
      "source": [
        "### Presentation of the Information in the Dictionary"
      ],
      "metadata": {
        "id": "6u4BwAFLiNa-"
      }
    },
    {
      "cell_type": "code",
      "source": [
        "#Let's present info in dict with double loops\n",
        "# e.g id = '001', and the corresponding info and so on. (Refer to the code on top to understand what sch_rec2.items() shows)\n",
        "\n",
        "\n",
        "\n"
      ],
      "metadata": {
        "id": "iDZYG4W2hFIw"
      },
      "execution_count": 47,
      "outputs": []
    },
    {
      "cell_type": "code",
      "source": [
        "# For QOL (Quality of Life) purposes, let's store Richard's details in a dictionary. In programming, it refers to small improvements that make code easier to read, use, or maintain, without changing its core function.\n",
        "Richard = {\n",
        "    \"first_name\": \"Richard\",  # First name of the individual\n",
        "    \"last_name\": \"Anderson\",  # Last name of the individual\n",
        "    \"age\": 45,                # Age of the individual\n",
        "    \"tattoos\": True           # Whether the individual has tattoos (boolean value)\n",
        "}\n"
      ],
      "metadata": {
        "id": "mOget1_biG5b"
      },
      "execution_count": 47,
      "outputs": []
    },
    {
      "cell_type": "code",
      "source": [
        "# Retrieve and print the current value of \"last_name\"\n",
        "\n",
        "# Change the \"last_name\" key value to \"Todd\"\n",
        "\n",
        "\n",
        "# Retrieve and print the updated value of \"last_name\"\n"
      ],
      "metadata": {
        "id": "WlbQh5IGibTU"
      },
      "execution_count": 31,
      "outputs": []
    },
    {
      "cell_type": "code",
      "source": [
        "# Access and print the current value of 'name' in the nested dictionary with key '001'\n",
        "\n",
        "\n",
        "# Change the 'name' value inside the nested dictionary\n",
        "\n",
        "\n",
        "print()"
      ],
      "metadata": {
        "colab": {
          "base_uri": "https://localhost:8080/"
        },
        "id": "qJSq8f4Xiecy",
        "outputId": "477c1a0a-f5b7-474a-a6bc-cd7459bfe85e"
      },
      "execution_count": 32,
      "outputs": [
        {
          "output_type": "stream",
          "name": "stdout",
          "text": [
            "\n"
          ]
        }
      ]
    },
    {
      "cell_type": "markdown",
      "source": [
        "###Adding a new key-value pair in a dictionary"
      ],
      "metadata": {
        "id": "o0Bi6lLBinLD"
      }
    },
    {
      "cell_type": "markdown",
      "source": [
        "#### For Regular Dictionary case"
      ],
      "metadata": {
        "id": "-mqx9Rbii5Ds"
      }
    },
    {
      "cell_type": "code",
      "source": [
        "#Before alteration\n"
      ],
      "metadata": {
        "id": "Xi2h_K37iu2r"
      },
      "execution_count": 33,
      "outputs": []
    },
    {
      "cell_type": "code",
      "source": [
        "#Alteration: Let's add his email\n"
      ],
      "metadata": {
        "id": "QzUgpFMUi9AS"
      },
      "execution_count": 34,
      "outputs": []
    },
    {
      "cell_type": "code",
      "source": [
        "#After alteration\n"
      ],
      "metadata": {
        "id": "wsaqtMTQjAUY"
      },
      "execution_count": 35,
      "outputs": []
    },
    {
      "cell_type": "markdown",
      "source": [
        "#### For Regular Dictionary case"
      ],
      "metadata": {
        "id": "FCi2bN-ljEVg"
      }
    },
    {
      "cell_type": "code",
      "source": [
        "#Before alteration\n",
        "print(\"Before alteration: \",sch_rec2)"
      ],
      "metadata": {
        "id": "j9tErtKUjH67"
      },
      "execution_count": 47,
      "outputs": []
    },
    {
      "cell_type": "code",
      "source": [
        "#Alteration\n",
        "sch_rec2['001']['email']='rand001@gmail.com'\n",
        "sch_rec2['002']['email']='rand002@gmail.com'\n",
        "sch_rec2['003']['email']='rand003@gmail.com'\n",
        "sch_rec2['004']['email']='rand004@gmail.com'\n",
        "sch_rec2['005']['email']='rand005@gmail.com'\n",
        "sch_rec2['006']['email']='rand006@gmail.com'\n",
        "\n",
        "print(\"After alteration: \",sch_rec2)"
      ],
      "metadata": {
        "id": "xUolvyixjMhS"
      },
      "execution_count": 47,
      "outputs": []
    },
    {
      "cell_type": "markdown",
      "source": [
        "### Deleting key-value pair in a dictionary"
      ],
      "metadata": {
        "id": "v-wel_xujS9C"
      }
    },
    {
      "cell_type": "markdown",
      "source": [
        "#### For Regular Dictionary case"
      ],
      "metadata": {
        "id": "2TMGCbNdjfVZ"
      }
    },
    {
      "cell_type": "code",
      "source": [
        "#Before alteration\n",
        "print(\"Before alteration: \",Richard)\n",
        "\n",
        "#Alteration: Let's delete his email\n",
        "\n",
        "\n",
        "#After alteration\n"
      ],
      "metadata": {
        "id": "Eawy0hEnje8_"
      },
      "execution_count": 47,
      "outputs": []
    },
    {
      "cell_type": "markdown",
      "source": [
        "#### For Nested Dictionary case"
      ],
      "metadata": {
        "id": "7VxVtdJHjsRR"
      }
    },
    {
      "cell_type": "code",
      "source": [
        "#Before alteration\n",
        "print(\"Before alteration: \",sch_rec2)\n",
        "\n",
        "#Alteration\n",
        "del sch_rec2['001']['email']\n",
        "del sch_rec2['002']['email']\n",
        "del sch_rec2['003']['email']\n",
        "del sch_rec2['004']['email']\n",
        "del sch_rec2['005']['email']\n",
        "del sch_rec2['006']['email']\n",
        "\n",
        "#After alteration\n",
        "print(\"After alteration: \",sch_rec2)"
      ],
      "metadata": {
        "id": "4JJMib4YjwPM"
      },
      "execution_count": 47,
      "outputs": []
    },
    {
      "cell_type": "markdown",
      "metadata": {
        "id": "qFwEZhNb0YP5"
      },
      "source": [
        "## Functions: Defining and Calling a Function\n",
        "\n",
        "1. A group of related statements that perform a specific task\n",
        "2. Helps break down the program into smaller modules rather than a lengthy set of code, which can be disorganized"
      ]
    },
    {
      "cell_type": "code",
      "execution_count": 48,
      "metadata": {
        "id": "SVRYJkNQ0YP5"
      },
      "outputs": [],
      "source": [
        "# Let's start by defining a simple addition function\n",
        "\n",
        "\n",
        "    # Calculate the total by adding num1 and num2\n",
        "\n",
        "    # Return the total\n",
        "\n",
        "\n",
        "# Call the function with arguments 5 and 7\n",
        "\n",
        "\n"
      ]
    },
    {
      "cell_type": "markdown",
      "metadata": {
        "id": "KIdydWG_0YP5"
      },
      "source": [
        "Defining a Palindrome Function\n"
      ]
    },
    {
      "cell_type": "code",
      "execution_count": 48,
      "metadata": {
        "id": "VI0RbtUi0YP5"
      },
      "outputs": [],
      "source": [
        "# Let's come up with a function to check if a word or phrase is a palindrome\n",
        "\n",
        "def is_palindrome(word):\n",
        "    # Convert the word to lowercase and remove spaces\n",
        "    word = word.lower().replace(\" \", \"\")\n",
        "    # Check if the word is the same when reversed\n",
        "    return word == word[::-1]\n",
        "\n",
        "# Check if \"taco cat\" is a palindrome\n",
        "print(is_palindrome(\"taco cat\"))\n",
        "\n",
        "# Your turn! Put in a word and check if it is a palindrome"
      ]
    },
    {
      "cell_type": "markdown",
      "metadata": {
        "id": "FH0YSenB0YP5"
      },
      "source": [
        "Magic 8-Ball Function\n",
        "\n"
      ]
    },
    {
      "cell_type": "code",
      "execution_count": 37,
      "metadata": {
        "id": "m4y0jhF_0YP5",
        "colab": {
          "base_uri": "https://localhost:8080/"
        },
        "outputId": "ac8999e5-da35-4729-ddba-36d26182b215"
      },
      "outputs": [
        {
          "output_type": "stream",
          "name": "stdout",
          "text": [
            "Question: Is it worthwhile to join DAC?\n",
            "Magic 8-Ball says: Very doubtful\n"
          ]
        }
      ],
      "source": [
        "import random  # Importing the random module to use for generating random responses\n",
        "\n",
        "# Function to simulate a magic 8-ball response\n",
        "def magic_8_ball():\n",
        "    # List of possible responses from the magic 8-ball\n",
        "    responses = [\n",
        "        \"Yes\", \"No\", \"It is certain\", \"Without a doubt\",\n",
        "        \"Reply hazy, try again\", \"Don't count on it\",\n",
        "        \"My sources say no\", \"Outlook not so good\", \"Very doubtful\",\n",
        "        \"You may rely on it\"\n",
        "    ]\n",
        "    # Return a random response from the list\n",
        "    return random.choice(responses)\n",
        "\n",
        "# Time for you to ask it a question!\n",
        "question = \"Is it worthwhile to join DAC?\"  # Define a question\n",
        "answer = magic_8_ball()  # Get a random response from the magic 8-ball\n",
        "print(f\"Question: {question}\")  # Print the question\n",
        "print(f\"Magic 8-Ball says: {answer}\")  # Print the answer\n"
      ]
    }
  ],
  "metadata": {
    "kernelspec": {
      "display_name": "Python 3",
      "language": "python",
      "name": "python3"
    },
    "language_info": {
      "codemirror_mode": {
        "name": "ipython",
        "version": 3
      },
      "file_extension": ".py",
      "mimetype": "text/x-python",
      "name": "python",
      "nbconvert_exporter": "python",
      "pygments_lexer": "ipython3",
      "version": "3.11.5"
    },
    "colab": {
      "provenance": []
    }
  },
  "nbformat": 4,
  "nbformat_minor": 0
}