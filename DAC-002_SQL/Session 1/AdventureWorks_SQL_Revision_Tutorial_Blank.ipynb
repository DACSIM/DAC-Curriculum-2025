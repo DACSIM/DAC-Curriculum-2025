{
 "cells": [
  {
   "cell_type": "markdown",
   "metadata": {
    "id": "MOLklw7dhwFr"
   },
   "source": [
    "# 🧠 AdventureWorks SQL Revision (Colab Edition)\n",
    "\n",
    "\n",
    "Let's get started 👇"
   ]
  },
  {
   "cell_type": "code",
   "execution_count": null,
   "metadata": {
    "id": "N1gYnidxhwFy"
   },
   "outputs": [],
   "source": [
    "!pip install ipython-sql==0.5.0 prettytable==3.9.0\n",
    "%load_ext sql\n",
    "%sql sqlite://\n",
    "%config SqlMagic.style = 'PLAIN_COLUMNS'\n",
    "%config SqlMagic.autopandas = True"
   ]
  },
  {
   "cell_type": "markdown",
   "metadata": {
    "id": "0PZVXmz7hwFz"
   },
   "source": [
    "## 🧩 Step 1: Create Dummy AdventureWorks Database"
   ]
  },
  {
   "cell_type": "code",
   "execution_count": null,
   "metadata": {
    "id": "X6QqgbKchwF0"
   },
   "outputs": [],
   "source": [
    "%%sql\n",
    "DROP TABLE IF EXISTS Person;\n",
    "DROP TABLE IF EXISTS Employee;\n",
    "DROP TABLE IF EXISTS Department;\n",
    "DROP TABLE IF EXISTS SalesOrderHeader;\n",
    "\n",
    "CREATE TABLE Person (\n",
    "    BusinessEntityID INTEGER PRIMARY KEY,\n",
    "    FirstName TEXT,\n",
    "    LastName TEXT,\n",
    "    EmailAddress TEXT\n",
    ");\n",
    "\n",
    "CREATE TABLE Employee (\n",
    "    BusinessEntityID INTEGER PRIMARY KEY,\n",
    "    JobTitle TEXT,\n",
    "    DepartmentID INTEGER,\n",
    "    HireDate TEXT\n",
    ");\n",
    "\n",
    "CREATE TABLE Department (\n",
    "    DepartmentID INTEGER PRIMARY KEY,\n",
    "    Name TEXT\n",
    ");\n",
    "\n",
    "CREATE TABLE SalesOrderHeader (\n",
    "    SalesOrderID INTEGER PRIMARY KEY,\n",
    "    OrderDate TEXT,\n",
    "    CustomerID INTEGER,\n",
    "    TotalDue REAL\n",
    ");\n",
    "\n",
    "INSERT INTO Department VALUES (1, 'Finance'), (2, 'Sales'), (3, 'HR');\n",
    "\n",
    "INSERT INTO Person VALUES\n",
    "(1, 'John', 'Doe', 'john.doe@email.com'),\n",
    "(2, 'Jane', 'Smith', 'jane.smith@email.com'),\n",
    "(3, 'Mike', 'Johnson', 'mike.johnson@email.com'),\n",
    "(4, 'Emily', 'Brown', 'emily.brown@email.com');\n",
    "\n",
    "INSERT INTO Employee VALUES\n",
    "(1, 'Manager', 1, '2019-01-15'),\n",
    "(2, 'Sales Representative', 2, '2020-03-01'),\n",
    "(3, 'HR Coordinator', 3, '2018-07-23');\n",
    "\n",
    "INSERT INTO SalesOrderHeader VALUES\n",
    "(1001, '2024-01-10', 1, 250.75),\n",
    "(1002, '2024-02-12', 2, 120.50),\n",
    "(1003, '2024-02-28', 3, 540.00),\n",
    "(1004, '2024-03-02', 4, 89.99);"
   ]
  },
  {
   "cell_type": "markdown",
   "metadata": {
    "id": "8M1EsNXihwF0"
   },
   "source": [
    "-- Q1: Select all employees\n",
    "Retrieve all rows from the Employee table."
   ]
  },
  {
   "cell_type": "code",
   "execution_count": null,
   "metadata": {
    "id": "imdD-HzKhwF1"
   },
   "outputs": [],
   "source": [
    "%%sql\n"
   ]
  },
  {
   "cell_type": "markdown",
   "metadata": {
    "id": "JbFkfpdKhwF1"
   },
   "source": [
    "-- Q2: List first and last names of all people.\n",
    "Retrieve names from the Person table."
   ]
  },
  {
   "cell_type": "code",
   "execution_count": null,
   "metadata": {
    "id": "OmaiICFBhwF1"
   },
   "outputs": [],
   "source": [
    "%%sql\n"
   ]
  },
  {
   "cell_type": "markdown",
   "metadata": {
    "id": "5qBuPKAthwF2"
   },
   "source": [
    "-- Q3: Show employees hired after 2019."
   ]
  },
  {
   "cell_type": "code",
   "execution_count": null,
   "metadata": {
    "id": "qCxwjM43hwF2"
   },
   "outputs": [],
   "source": [
    "%%sql\n"
   ]
  },
  {
   "cell_type": "markdown",
   "metadata": {
    "id": "8AoqYXxthwF3"
   },
   "source": [
    "-- Q4: Join Employee with Department to show names and department names."
   ]
  },
  {
   "cell_type": "code",
   "execution_count": null,
   "metadata": {
    "id": "VyB_nRwAhwF3"
   },
   "outputs": [],
   "source": [
    "%%sql\n"
   ]
  },
  {
   "cell_type": "markdown",
   "metadata": {
    "id": "f2qckLgzhwF3"
   },
   "source": [
    "-- Q5: Count total number of employees in each department."
   ]
  },
  {
   "cell_type": "code",
   "execution_count": null,
   "metadata": {
    "id": "Az3s1CQxhwF3"
   },
   "outputs": [],
   "source": [
    "%%sql\n"
   ]
  },
  {
   "cell_type": "markdown",
   "metadata": {
    "id": "BTuurByGhwF3"
   },
   "source": [
    "-- Q6: Find the highest TotalDue from SalesOrderHeader."
   ]
  },
  {
   "cell_type": "code",
   "execution_count": null,
   "metadata": {
    "id": "0Ku08eiwhwF3"
   },
   "outputs": [],
   "source": [
    "%%sql\n"
   ]
  },
  {
   "cell_type": "markdown",
   "metadata": {
    "id": "w7P057sghwF4"
   },
   "source": [
    "-- Q7: Show all orders where TotalDue is above 200."
   ]
  },
  {
   "cell_type": "code",
   "execution_count": null,
   "metadata": {
    "id": "YuS2mIHfhwF4"
   },
   "outputs": [],
   "source": [
    "%%sql\n"
   ]
  },
  {
   "cell_type": "markdown",
   "metadata": {
    "id": "wJDWfS-4hwF4"
   },
   "source": [
    "-- Q8: Show the number of customers who placed orders."
   ]
  },
  {
   "cell_type": "code",
   "execution_count": null,
   "metadata": {
    "id": "A-0Z5PXKhwF4"
   },
   "outputs": [],
   "source": [
    "%%sql\n"
   ]
  },
  {
   "cell_type": "markdown",
   "metadata": {
    "id": "rZ3tttDDhwF4"
   },
   "source": [
    "-- Q9: Use a subquery to show customers whose total due is above average."
   ]
  },
  {
   "cell_type": "code",
   "execution_count": null,
   "metadata": {
    "id": "vOccbCc2hwF4"
   },
   "outputs": [],
   "source": [
    "%%sql\n"
   ]
  },
  {
   "cell_type": "markdown",
   "metadata": {
    "id": "b2XEZr3ShwF4"
   },
   "source": [
    "-- Q10: Show employee names and departments using multiple joins."
   ]
  },
  {
   "cell_type": "code",
   "execution_count": null,
   "metadata": {
    "id": "TKkp00f2hwF4"
   },
   "outputs": [],
   "source": [
    "%%sql\n"
   ]
  }
 ],
 "metadata": {
  "colab": {
   "provenance": []
  },
  "kernelspec": {
   "display_name": "Python 3",
   "language": "python",
   "name": "python3"
  },
  "language_info": {
   "name": "python"
  }
 },
 "nbformat": 4,
 "nbformat_minor": 0
}
