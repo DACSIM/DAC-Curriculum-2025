{
 "cells": [
  {
   "cell_type": "markdown",
   "id": "c9db5206",
   "metadata": {},
   "source": [
    "\n",
    "# 🏁 Exploratory Data Analysis (EDA) — Daniel Ricciardo\n",
    "\n",
    "In this notebook, we'll explore data about **Daniel Ricciardo's Formula 1 career** to practice **basic EDA** (Exploratory Data Analysis).  \n",
    "We'll learn how to:\n",
    "- Load and preview a dataset  \n",
    "- Check for missing data  \n",
    "- Summarize and understand columns  \n",
    "- Create simple charts to spot patterns\n",
    "\n",
    "> This is a gentle walkthrough — perfect for building EDA confidence.\n"
   ]
  },
  {
   "cell_type": "markdown",
   "id": "559397f8",
   "metadata": {},
   "source": [
    "## 1️⃣ Import Libraries and Load Data"
   ]
  },
  {
   "cell_type": "code",
   "execution_count": null,
   "id": "34b33a17",
   "metadata": {},
   "outputs": [],
   "source": [
    "\n",
    "import pandas as pd\n",
    "import matplotlib.pyplot as plt\n",
    "\n",
    "# Load dataset\n",
    "df = pd.read_csv(\"daniel_ricciardo.csv\")\n",
    "df.head()\n"
   ]
  },
  {
   "cell_type": "markdown",
   "id": "00431d6c",
   "metadata": {},
   "source": [
    "\n",
    "### 🧐 Step 1: Let's understand what we just loaded!\n",
    "We'll check the **shape**, **data types**, and if there are **missing values**.\n"
   ]
  },
  {
   "cell_type": "code",
   "execution_count": null,
   "id": "082951f3",
   "metadata": {},
   "outputs": [],
   "source": [
    "\n",
    "print(\"Shape of data:\", df.shape)\n",
    "print(\"\\n--- Data Info ---\")\n",
    "print(df.info())\n",
    "print(\"\\n--- Missing Values ---\")\n",
    "print(df.isna().sum())\n"
   ]
  },
  {
   "cell_type": "markdown",
   "id": "6f751057",
   "metadata": {},
   "source": [
    "\n",
    "## 2️⃣ Quick Overview of the Data\n",
    "\n",
    "Let's describe both **numerical** and **categorical** columns to get a sense of the data.\n"
   ]
  },
  {
   "cell_type": "code",
   "execution_count": null,
   "id": "5a41423b",
   "metadata": {},
   "outputs": [],
   "source": [
    "\n",
    "print(\"Numerical Summary:\")\n",
    "display(df.describe())\n",
    "print(\"\\nCategorical Summary:\")\n",
    "display(df.describe(include='object'))\n"
   ]
  },
  {
   "cell_type": "markdown",
   "id": "039611f1",
   "metadata": {},
   "source": [
    "\n",
    "## 3️⃣ Explore Categorical Columns\n",
    "\n",
    "Let's see which **teams**, **cars**, and **engine types** appear most often.\n"
   ]
  },
  {
   "cell_type": "code",
   "execution_count": null,
   "id": "52668d55",
   "metadata": {},
   "outputs": [],
   "source": [
    "\n",
    "print(\"Top 5 Teams:\")\n",
    "print(df['team'].value_counts().head())\n",
    "print(\"\\nTop 5 Cars:\")\n",
    "print(df['car'].value_counts().head())\n",
    "print(\"\\nTop 5 Engine Types:\")\n",
    "print(df['engine_type'].value_counts().head())\n"
   ]
  },
  {
   "cell_type": "markdown",
   "id": "3ca753f1",
   "metadata": {},
   "source": [
    "\n",
    "## 4️⃣ Visualizing Data\n",
    "\n",
    "Let's create some simple visualizations to better understand the dataset.\n"
   ]
  },
  {
   "cell_type": "code",
   "execution_count": null,
   "id": "3c33b721",
   "metadata": {},
   "outputs": [],
   "source": [
    "\n",
    "# Entries by year\n",
    "df['year'].value_counts().sort_index().plot(kind='bar')\n",
    "plt.title('Entries by Year')\n",
    "plt.xlabel('Year')\n",
    "plt.ylabel('Count')\n",
    "plt.show()\n",
    "\n",
    "# Top teams\n",
    "df['team'].value_counts().head(10).plot(kind='barh')\n",
    "plt.title('Top 10 Teams by Entries')\n",
    "plt.xlabel('Count')\n",
    "plt.ylabel('Team')\n",
    "plt.show()\n"
   ]
  },
  {
   "cell_type": "markdown",
   "id": "2e6d38b9",
   "metadata": {},
   "source": [
    "\n",
    "## 5️⃣ Check for Patterns or Interesting Facts\n",
    "Let's look for simple insights:\n",
    "- Which year has the most records?\n",
    "- Which team did he appear with most often?\n",
    "- Are there many missing event details?\n"
   ]
  },
  {
   "cell_type": "code",
   "execution_count": null,
   "id": "c3a3ab4b",
   "metadata": {},
   "outputs": [],
   "source": [
    "\n",
    "print(\"Year with most entries:\", df['year'].mode()[0])\n",
    "print(\"Most frequent team:\", df['team'].mode()[0])\n",
    "print(\"Missing 'event' values:\", df['event'].isna().sum())\n"
   ]
  },
  {
   "cell_type": "markdown",
   "id": "10d88c98",
   "metadata": {},
   "source": [
    "\n",
    "## 6️⃣ Wrap Up\n",
    "\n",
    "We learned to:\n",
    "- Inspect datasets with `.info()`, `.describe()`, and `.isna()`  \n",
    "- Explore text columns with `.value_counts()`  \n",
    "- Create basic bar plots to visualize distributions  \n",
    "\n",
    "🎯 **Key takeaway:** EDA helps us **understand the story behind the data** before modeling or advanced analysis.\n"
   ]
  }
 ],
 "metadata": {
  "kernelspec": {
   "display_name": "base",
   "language": "python",
   "name": "python3"
  },
  "language_info": {
   "name": "python",
   "version": "3.12.4"
  }
 },
 "nbformat": 4,
 "nbformat_minor": 5
}
