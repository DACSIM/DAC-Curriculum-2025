{
 "cells": [
  {
   "cell_type": "markdown",
   "id": "4ab1295f",
   "metadata": {},
   "source": [
    "# 🧪 Exploratory Data Analysis (EDA) — Daniel Ricciardo Dataset\n",
    "\n",
    "Welcome! In this guided notebook, we'll practice **Exploratory Data Analysis (EDA)** using a dataset about Daniel Ricciardo's Formula 1 career entries.  \n",
    "Our goals today are to:\n",
    "- Understand the dataset structure (columns, types, missing values)\n",
    "- Clean and standardize the data\n",
    "- Explore **performance-related proxies** (e.g., teams, engines, event types) across **years**\n",
    "- Practice **reading plots** and turning outputs into **insights**\n",
    "\n",
    "> **Teaching note:** This notebook uses a *classroom tone* and explains **why** each step matters before we write any code."
   ]
  },
  {
   "cell_type": "markdown",
   "id": "f40f71b1",
   "metadata": {},
   "source": [
    "## 1. Setup\n",
    "We'll import the core libraries and load the dataset.  \n",
    "If anything errors, read the message carefully—it often tells you exactly what's wrong."
   ]
  },
  {
   "cell_type": "code",
   "execution_count": null,
   "id": "034dcc34",
   "metadata": {},
   "outputs": [
    {
     "ename": "SyntaxError",
     "evalue": "(unicode error) 'unicodeescape' codec can't decode bytes in position 2-3: truncated \\UXXXXXXXX escape (1449094201.py, line 10)",
     "output_type": "error",
     "traceback": [
      "\u001b[1;36m  Cell \u001b[1;32mIn[2], line 10\u001b[1;36m\u001b[0m\n\u001b[1;33m    df = pd.read_csv(\"C:\\Users\\ellyh\\Documents\\UOW\\DAC\\NEW SYLLABUS\\DACSIM\\DAC-003_EDA\\Session 2\\daniel_ricciardo.csv\")\u001b[0m\n\u001b[1;37m                     ^\u001b[0m\n\u001b[1;31mSyntaxError\u001b[0m\u001b[1;31m:\u001b[0m (unicode error) 'unicodeescape' codec can't decode bytes in position 2-3: truncated \\UXXXXXXXX escape\n"
     ]
    }
   ],
   "source": [
    "# Always run this cell first\n",
    "import pandas as pd\n",
    "import numpy as np\n",
    "import matplotlib.pyplot as plt\n",
    "\n",
    "# Make charts a bit bigger for teaching\n",
    "plt.rcParams['figure.figsize'] = (9,5)\n",
    "\n",
    "# Load data\n",
    "df = pd.read_csv(r\"C:\\Users\\ellyh\\Documents\\UOW\\DAC\\NEW SYLLABUS\\DACSIM\\DAC-003_EDA\\Session 2\\daniel_ricciardo.csv\")\n",
    "print(\"Rows:\", len(df))\n",
    "print(\"Columns:\", list(df.columns))\n",
    "df.head(5)"
   ]
  },
  {
   "cell_type": "markdown",
   "id": "31782070",
   "metadata": {},
   "source": [
    "## 2. First Look at the Data\n",
    "Before analysis, we want to know:\n",
    "- What **columns** exist and what do they mean?\n",
    "- What are the **data types**?\n",
    "- Where are there **missing values**?"
   ]
  },
  {
   "cell_type": "code",
   "execution_count": null,
   "id": "901ee5a5",
   "metadata": {},
   "outputs": [],
   "source": [
    "\n",
    "# TODO: Show info about the dataframe structure and basic summary stats\n",
    "# HINTS:\n",
    "# - df.info()\n",
    "# - df.describe(include='all', datetime_is_numeric=True)\n",
    "# - df.isna().sum().sort_values(ascending=False)\n",
    "\n"
   ]
  },
  {
   "cell_type": "markdown",
   "id": "5b248fe5",
   "metadata": {},
   "source": [
    "## 3. Data Cleaning (Light)\n",
    "We'll do **minimal, safe** cleaning to standardize types and values so plots don't break:\n",
    "- Convert `year` and `race_number` to integers (nullable)  \n",
    "- Coerce `grid_number` to numeric (set non-numeric to NaN)  \n",
    "- Trim whitespace and standardize the case for text columns"
   ]
  },
  {
   "cell_type": "code",
   "execution_count": null,
   "id": "05f8993b",
   "metadata": {},
   "outputs": [],
   "source": [
    "\n",
    "# TODO: Copy the template below and complete each step.\n",
    "\n",
    "# 1) Make safe copies\n",
    "# df_clean = df.copy()\n",
    "\n",
    "# 2) Convert types (nullable integer)\n",
    "# for col in ['year','race_number']:\n",
    "#     df_clean[col] = pd.to_numeric(df_clean[col], errors='coerce').astype('Int64')\n",
    "\n",
    "# 3) Coerce grid_number to numeric\n",
    "# df_clean['grid_number'] = pd.to_numeric(df_clean['grid_number'], errors='coerce').astype('Int64')\n",
    "\n",
    "# 4) Standardize text columns: strip spaces and title-case\n",
    "# text_cols = df_clean.select_dtypes(include='object').columns\n",
    "# for c in text_cols:\n",
    "#     df_clean[c] = df_clean[c].astype(str).str.strip()\n",
    "\n",
    "# 5) Simple sanity check\n",
    "# df_clean.dtypes\n"
   ]
  },
  {
   "cell_type": "markdown",
   "id": "85214b3b",
   "metadata": {},
   "source": [
    "## 4. What Columns Do We Have?\n",
    "Let's quickly profile each column: unique counts and a few example values. This helps us form **questions** for analysis."
   ]
  },
  {
   "cell_type": "code",
   "execution_count": null,
   "id": "8272da83",
   "metadata": {},
   "outputs": [],
   "source": [
    "\n",
    "# TODO: Show unique counts per column and a preview of values\n",
    "# HINT: Use .nunique() and .dropna().unique()[:10]\n",
    "\n"
   ]
  },
  {
   "cell_type": "markdown",
   "id": "e760ae48",
   "metadata": {},
   "source": [
    "## 5. Univariate Analysis\n",
    "We'll start with **one variable at a time**. For categorical columns, bar charts are great. For numeric columns, histograms or boxplots help.\n",
    "We'll look at:\n",
    "- `year` (activity over time)  \n",
    "- `team` (which teams appear most)  \n",
    "- `event` (types of entries: e.g., race, third driver, DNFs, etc.)"
   ]
  },
  {
   "cell_type": "code",
   "execution_count": null,
   "id": "77c7c4a6",
   "metadata": {},
   "outputs": [],
   "source": [
    "\n",
    "# TODO: Plot counts by year (bar). Label axes and rotate ticks for readability.\n",
    "# HINT: value_counts().sort_index()\n",
    "\n"
   ]
  },
  {
   "cell_type": "code",
   "execution_count": null,
   "id": "09a1c1fe",
   "metadata": {},
   "outputs": [],
   "source": [
    "\n",
    "# TODO: Top teams by count (horizontal bar for readability)\n",
    "# HINT: value_counts().head(10)\n",
    "\n"
   ]
  },
  {
   "cell_type": "code",
   "execution_count": null,
   "id": "20701158",
   "metadata": {},
   "outputs": [],
   "source": [
    "\n",
    "# TODO: Top event types (bar). Consider grouping rare categories into 'Other'.\n",
    "# HINT: value_counts(normalize=True)\n",
    "\n"
   ]
  },
  {
   "cell_type": "markdown",
   "id": "40b34d26",
   "metadata": {},
   "source": [
    "## 6. Bivariate Relationships (Two Variables)\n",
    "We'll examine how categories change **over time** and how **teams** intersect with **events**."
   ]
  },
  {
   "cell_type": "code",
   "execution_count": null,
   "id": "b9ed1c5b",
   "metadata": {},
   "outputs": [],
   "source": [
    "\n",
    "# TODO: Entries per year by team (crosstab → heatmap-like with imshow or pcolor)\n",
    "# HINTS:\n",
    "# - pd.crosstab(df_clean['year'], df_clean['team'])\n",
    "# - plt.imshow(...); plt.colorbar()\n",
    "\n"
   ]
  },
  {
   "cell_type": "code",
   "execution_count": null,
   "id": "33517dc1",
   "metadata": {},
   "outputs": [],
   "source": [
    "\n",
    "# TODO: Event mix by year (normalize rows to see proportions)\n",
    "# HINT: ctab = pd.crosstab(df_clean['year'], df_clean['event'], normalize='index')\n",
    "\n"
   ]
  },
  {
   "cell_type": "markdown",
   "id": "9a4f48af",
   "metadata": {},
   "source": [
    "## 7. Performance Proxies & Dataset Limitations\n",
    "We intended to focus on **performance metrics** (positions, points, finishes).  \n",
    "**However, this dataset does not contain columns like `position`, `points`, or `status` typically used for race results.**\n",
    "\n",
    "We'll do two things:\n",
    "1) Use **proxies** (e.g., entries by year/team/event) to describe career activity.  \n",
    "2) Learn how to check for **missing columns** and plan a **merge** if we later obtain a race-results table."
   ]
  },
  {
   "cell_type": "code",
   "execution_count": null,
   "id": "6a70d318",
   "metadata": {},
   "outputs": [],
   "source": [
    "\n",
    "# TODO: Programmatically confirm that 'position' or 'points' columns are missing\n",
    "# Then create a boolean column 'is_race_context' that flags entries that look race-related\n",
    "# HINT: any('position' in c.lower() for c in df_clean.columns)\n",
    "\n"
   ]
  },
  {
   "cell_type": "markdown",
   "id": "9147c27f",
   "metadata": {},
   "source": [
    "## 8. Try It Yourself ✍️\n",
    "1. Plot the **engine types** over years (counts or proportions). What do you notice?  \n",
    "2. Identify the **top 5 circuits (grand_prix)** by entries. Do any coincide with team changes?  \n",
    "3. If you had a `race_results.csv` with `year`, `grand_prix`, `position`, and `points`, how would you **merge** it with `df_clean`? *(Write the join code.)*"
   ]
  },
  {
   "cell_type": "code",
   "execution_count": null,
   "id": "7b3d6dbc",
   "metadata": {},
   "outputs": [],
   "source": [
    "\n",
    "# TODO 1: Engine types by year\n",
    "# Your code here\n",
    "\n"
   ]
  },
  {
   "cell_type": "code",
   "execution_count": null,
   "id": "51da20a1",
   "metadata": {},
   "outputs": [],
   "source": [
    "\n",
    "# TODO 2: Top 5 circuits by entries\n",
    "# Your code here\n",
    "\n"
   ]
  },
  {
   "cell_type": "code",
   "execution_count": null,
   "id": "83be7710",
   "metadata": {},
   "outputs": [],
   "source": [
    "\n",
    "# TODO 3: Hypothetical merge with race_results\n",
    "# HINT:\n",
    "# results = pd.read_csv('race_results.csv')\n",
    "# merged = df_clean.merge(results, on=['year','grand_prix'], how='left')\n",
    "# merged.head()\n",
    "\n"
   ]
  },
  {
   "cell_type": "markdown",
   "id": "233cfd0e",
   "metadata": {},
   "source": [
    "## 9. Wrap-Up: What Did We Learn?\n",
    "- We practiced a **clean → explore → interpret** EDA loop.  \n",
    "- We read bar charts and heatmaps to describe **how** activity changed by **year**, **team**, and **event**.  \n",
    "- We identified **dataset gaps** (no positions/points), and proposed a **merge plan** for future work.\n",
    "\n",
    "> **Exit ticket:** Write 2–3 bullet points about Ricciardo’s career phases that you can defend using the visuals above."
   ]
  }
 ],
 "metadata": {
  "kernelspec": {
   "display_name": "base",
   "language": "python",
   "name": "python3"
  },
  "language_info": {
   "codemirror_mode": {
    "name": "ipython",
    "version": 3
   },
   "file_extension": ".py",
   "mimetype": "text/x-python",
   "name": "python",
   "nbconvert_exporter": "python",
   "pygments_lexer": "ipython3",
   "version": "3.12.4"
  }
 },
 "nbformat": 4,
 "nbformat_minor": 5
}
