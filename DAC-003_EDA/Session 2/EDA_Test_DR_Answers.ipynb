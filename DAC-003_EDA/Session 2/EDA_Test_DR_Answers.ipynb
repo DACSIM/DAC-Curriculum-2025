{
 "cells": [
  {
   "cell_type": "markdown",
   "id": "3d060bb6",
   "metadata": {},
   "source": [
    "# 🧪 Exploratory Data Analysis (EDA) — Daniel Ricciardo Dataset\n",
    "\n",
    "Welcome! In this guided notebook, we'll practice **Exploratory Data Analysis (EDA)** using a dataset about Daniel Ricciardo's Formula 1 career entries.  \n",
    "Our goals today are to:\n",
    "- Understand the dataset structure (columns, types, missing values)\n",
    "- Clean and standardize the data\n",
    "- Explore **performance-related proxies** (e.g., teams, engines, event types) across **years**\n",
    "- Practice **reading plots** and turning outputs into **insights**\n",
    "\n",
    "> **Teaching note:** This notebook uses a *classroom tone* and explains **why** each step matters before we write any code."
   ]
  },
  {
   "cell_type": "markdown",
   "id": "eb22bae6",
   "metadata": {},
   "source": [
    "## 1. Setup\n",
    "We'll import the core libraries and load the dataset.  \n",
    "If anything errors, read the message carefully—it often tells you exactly what's wrong."
   ]
  },
  {
   "cell_type": "code",
   "execution_count": null,
   "id": "30b0b288",
   "metadata": {},
   "outputs": [],
   "source": [
    "# Always run this cell first\n",
    "import pandas as pd\n",
    "import numpy as np\n",
    "import matplotlib.pyplot as plt\n",
    "\n",
    "# Make charts a bit bigger for teaching\n",
    "plt.rcParams['figure.figsize'] = (9,5)\n",
    "\n",
    "# Load data\n",
    "df = pd.read_csv(r\"C:\\Users\\ellyh\\Documents\\UOW\\DAC\\NEW SYLLABUS\\DACSIM\\DAC-003_EDA\\Session 2\\daniel_ricciardo.csv\")\n",
    "print(\"Rows:\", len(df))\n",
    "print(\"Columns:\", list(df.columns))\n",
    "df.head(5)"
   ]
  },
  {
   "cell_type": "markdown",
   "id": "cecb9c40",
   "metadata": {},
   "source": [
    "## 2. First Look at the Data\n",
    "Before analysis, we want to know:\n",
    "- What **columns** exist and what do they mean?\n",
    "- What are the **data types**?\n",
    "- Where are there **missing values**?"
   ]
  },
  {
   "cell_type": "code",
   "execution_count": null,
   "id": "6062cbe0",
   "metadata": {},
   "outputs": [],
   "source": [
    "# Structure overview\n",
    "display(df.info())\n",
    "display(df.describe(include='all', datetime_is_numeric=True))\n",
    "display(df.isna().sum().sort_values(ascending=False))"
   ]
  },
  {
   "cell_type": "markdown",
   "id": "ac453ebe",
   "metadata": {},
   "source": [
    "**Teacher’s interpretation:**  \n",
    "- `info()` shows types; note that several columns are `object` (categorical text).  \n",
    "- `describe()` mixes numeric and categorical summaries because we passed `include='all'`.  \n",
    "- The missing-value table shows where we’ll need to be careful downstream (e.g., `grid_number` looks text-like with \"na\")."
   ]
  },
  {
   "cell_type": "markdown",
   "id": "6e108f66",
   "metadata": {},
   "source": [
    "## 3. Data Cleaning (Light)\n",
    "We'll do **minimal, safe** cleaning to standardize types and values so plots don't break:\n",
    "- Convert `year` and `race_number` to integers (nullable)  \n",
    "- Coerce `grid_number` to numeric (set non-numeric to NaN)  \n",
    "- Trim whitespace and standardize the case for text columns"
   ]
  },
  {
   "cell_type": "code",
   "execution_count": null,
   "id": "46669477",
   "metadata": {},
   "outputs": [],
   "source": [
    "# Cleaning\n",
    "df_clean = df.copy()\n",
    "\n",
    "# Convert to nullable integer where appropriate\n",
    "for col in ['year','race_number']:\n",
    "    df_clean[col] = pd.to_numeric(df_clean[col], errors='coerce').astype('Int64')\n",
    "\n",
    "# Grid number to numeric (many are 'na')\n",
    "df_clean['grid_number'] = pd.to_numeric(df_clean['grid_number'], errors='coerce').astype('Int64')\n",
    "\n",
    "# Standardize text: strip whitespace\n",
    "text_cols = df_clean.select_dtypes(include='object').columns\n",
    "for c in text_cols:\n",
    "    df_clean[c] = df_clean[c].astype(str).str.strip()\n",
    "\n",
    "df_clean.dtypes"
   ]
  },
  {
   "cell_type": "markdown",
   "id": "92adc0d5",
   "metadata": {},
   "source": [
    "\n",
    "**Why this matters:** Consistent types prevent subtle bugs (e.g., plotting functions treat strings differently from numbers).  \n"
   ]
  },
  {
   "cell_type": "markdown",
   "id": "a4c7b964",
   "metadata": {},
   "source": [
    "## 4. What Columns Do We Have?\n",
    "Let's quickly profile each column: unique counts and a few example values. This helps us form **questions** for analysis."
   ]
  },
  {
   "cell_type": "code",
   "execution_count": null,
   "id": "e0e658fa",
   "metadata": {},
   "outputs": [],
   "source": [
    "\n",
    "# Unique counts\n",
    "display(df_clean.nunique().sort_values(ascending=False))\n",
    "\n",
    "# Peek at sample values per column\n",
    "for c in df_clean.columns:\n",
    "    sample_vals = pd.Series(df_clean[c].dropna().unique()).astype(str).head(8).tolist()\n",
    "    print(f\"- {c}: {len(df_clean[c].dropna().unique())} uniques → {sample_vals}\")\n"
   ]
  },
  {
   "cell_type": "markdown",
   "id": "67cbd25f",
   "metadata": {},
   "source": [
    "## 5. Univariate Analysis\n",
    "We'll start with **one variable at a time**. For categorical columns, bar charts are great. For numeric columns, histograms or boxplots help.\n",
    "We'll look at:\n",
    "- `year` (activity over time)  \n",
    "- `team` (which teams appear most)  \n",
    "- `event` (types of entries: e.g., race, third driver, DNFs, etc.)"
   ]
  },
  {
   "cell_type": "code",
   "execution_count": null,
   "id": "8894c428",
   "metadata": {},
   "outputs": [],
   "source": [
    "# Counts by year\n",
    "year_counts = df_clean['year'].value_counts(dropna=False).sort_index()\n",
    "year_counts.plot(kind='bar')\n",
    "plt.title('Entries by Year')\n",
    "plt.xlabel('Year')\n",
    "plt.ylabel('Count')\n",
    "plt.show()"
   ]
  },
  {
   "cell_type": "code",
   "execution_count": null,
   "id": "e49c4698",
   "metadata": {},
   "outputs": [],
   "source": [
    "# Top teams\n",
    "team_counts = df_clean['team'].value_counts().head(10)\n",
    "team_counts.plot(kind='barh')\n",
    "plt.title('Top 10 Teams by Entry Count')\n",
    "plt.xlabel('Count'); plt.ylabel('Team')\n",
    "plt.gca().invert_yaxis()\n",
    "plt.show()"
   ]
  },
  {
   "cell_type": "code",
   "execution_count": null,
   "id": "e46ec652",
   "metadata": {},
   "outputs": [],
   "source": [
    "# Event types (top 12 + 'Other')\n",
    "event_counts = df_clean['event'].value_counts()\n",
    "top_n = 12\n",
    "top_events = event_counts.head(top_n)\n",
    "other = pd.Series({'Other': event_counts.iloc[top_n:].sum()})\n",
    "event_plot = pd.concat([top_events, other])\n",
    "event_plot.plot(kind='bar')\n",
    "plt.title('Event Types (Top 12 + Other)')\n",
    "plt.ylabel('Count'); plt.xlabel('Event')\n",
    "plt.xticks(rotation=45, ha='right')\n",
    "plt.tight_layout()\n",
    "plt.show()"
   ]
  },
  {
   "cell_type": "markdown",
   "id": "d6504ffe",
   "metadata": {},
   "source": [
    "**Reading the plots:**  \n",
    "- **Year** shows when Ricciardo appears in the record (including early-career third driver roles).  \n",
    "- **Teams** reveals team tenure and transitions.  \n",
    "- **Event types** indicate activity mix (practice/third driver vs race-related entries)."
   ]
  },
  {
   "cell_type": "markdown",
   "id": "4158ff52",
   "metadata": {},
   "source": [
    "## 6. Bivariate Relationships (Two Variables)\n",
    "We'll examine how categories change **over time** and how **teams** intersect with **events**."
   ]
  },
  {
   "cell_type": "code",
   "execution_count": null,
   "id": "1dc81377",
   "metadata": {},
   "outputs": [],
   "source": [
    "# Year x Team heatmap\n",
    "ct_year_team = pd.crosstab(df_clean['year'], df_clean['team'])\n",
    "plt.imshow(ct_year_team, aspect='auto')\n",
    "plt.title('Entries by Year x Team'); plt.xlabel('Team'); plt.ylabel('Year')\n",
    "plt.colorbar(label='Count')\n",
    "plt.xticks(ticks=range(len(ct_year_team.columns)), labels=ct_year_team.columns, rotation=90)\n",
    "plt.yticks(ticks=range(len(ct_year_team.index)), labels=ct_year_team.index)\n",
    "plt.tight_layout(); plt.show()"
   ]
  },
  {
   "cell_type": "code",
   "execution_count": null,
   "id": "13e0a4b6",
   "metadata": {},
   "outputs": [],
   "source": [
    "# Event mix over time (row-normalized)\n",
    "ct_year_event = pd.crosstab(df_clean['year'], df_clean['event'], normalize='index')\n",
    "plt.imshow(ct_year_event, aspect='auto')\n",
    "plt.title('Event Mix by Year (Proportion)'); plt.xlabel('Event'); plt.ylabel('Year')\n",
    "plt.colorbar(label='Proportion')\n",
    "plt.xticks(ticks=range(len(ct_year_event.columns)), labels=ct_year_event.columns, rotation=90)\n",
    "plt.yticks(ticks=range(len(ct_year_event.index)), labels=ct_year_event.index)\n",
    "plt.tight_layout(); plt.show()"
   ]
  },
  {
   "cell_type": "markdown",
   "id": "da6dc3f0",
   "metadata": {},
   "source": [
    "**Interpretation tips:**  \n",
    "- Concentrations in specific years indicate **tenure changes** and **career phases**.  \n",
    "- A higher share of non-race events in early years likely reflects **development/third driver** roles."
   ]
  },
  {
   "cell_type": "markdown",
   "id": "332441c3",
   "metadata": {},
   "source": [
    "## 7. Performance Proxies & Dataset Limitations\n",
    "We intended to focus on **performance metrics** (positions, points, finishes).  \n",
    "**However, this dataset does not contain columns like `position`, `points`, or `status` typically used for race results.**\n",
    "\n",
    "We'll do two things:\n",
    "1) Use **proxies** (e.g., entries by year/team/event) to describe career activity.  \n",
    "2) Learn how to check for **missing columns** and plan a **merge** if we later obtain a race-results table."
   ]
  },
  {
   "cell_type": "code",
   "execution_count": null,
   "id": "9ad94a7c",
   "metadata": {},
   "outputs": [],
   "source": [
    "# Confirm absence of typical performance columns\n",
    "perf_like = [c for c in df_clean.columns if any(k in c.lower() for k in ['position','points','status','result','finish'])]\n",
    "print(\"Performance-like columns found:\", perf_like)\n",
    "\n",
    "# Define a very rough proxy for \"race context\":\n",
    "# label entries that are NOT clearly 'Third driver' as potentially race/weekend related\n",
    "df_clean['is_race_context'] = ~df_clean['event'].str.lower().str.contains('third driver')\n",
    "df_clean['is_race_context'].value_counts(dropna=False)"
   ]
  },
  {
   "cell_type": "markdown",
   "id": "518d5442",
   "metadata": {},
   "source": [
    "\n",
    "**Teaching moment:** It's okay to hit limitations! Good analysts **document gaps** and propose next steps (e.g., *\"We need to join with race results to study points/finishes\"*).  \n"
   ]
  },
  {
   "cell_type": "markdown",
   "id": "5c2e270c",
   "metadata": {},
   "source": [
    "## 8. Try It Yourself ✍️\n",
    "1. Plot the **engine types** over years (counts or proportions). What do you notice?  \n",
    "2. Identify the **top 5 circuits (grand_prix)** by entries. Do any coincide with team changes?  \n",
    "3. If you had a `race_results.csv` with `year`, `grand_prix`, `position`, and `points`, how would you **merge** it with `df_clean`? *(Write the join code.)*"
   ]
  },
  {
   "cell_type": "code",
   "execution_count": null,
   "id": "dc135010",
   "metadata": {},
   "outputs": [],
   "source": [
    "# Engine types by year (stacked proportions)\n",
    "ct_year_engine = pd.crosstab(df_clean['year'], df_clean['engine_type'], normalize='index')\n",
    "ct_year_engine.plot(kind='bar', stacked=True, legend=False)\n",
    "plt.title('Engine Types by Year (Proportion)'); plt.ylabel('Proportion'); plt.xlabel('Year')\n",
    "plt.tight_layout(); plt.show()"
   ]
  },
  {
   "cell_type": "code",
   "execution_count": null,
   "id": "997cdd96",
   "metadata": {},
   "outputs": [],
   "source": [
    "# Top 5 circuits by entries\n",
    "top_gp = df_clean['grand_prix'].value_counts().head(5)\n",
    "top_gp.plot(kind='bar')\n",
    "plt.title('Top 5 Grand Prix by Entry Count'); plt.ylabel('Count'); plt.xlabel('Grand Prix')\n",
    "plt.xticks(rotation=45, ha='right'); plt.tight_layout(); plt.show()"
   ]
  },
  {
   "cell_type": "code",
   "execution_count": null,
   "id": "59e900ea",
   "metadata": {},
   "outputs": [],
   "source": [
    "# Hypothetical merge pattern (no file provided)\n",
    "# This demonstrates the code shape students should write.\n",
    "# results = pd.read_csv('race_results.csv')\n",
    "# merged = df_clean.merge(results, on=['year','grand_prix'], how='left')\n",
    "# display(merged.head())\n",
    "print(\"See commented example above for the standard left join on ['year','grand_prix'].\")"
   ]
  },
  {
   "cell_type": "markdown",
   "id": "8395939b",
   "metadata": {},
   "source": [
    "## 9. Wrap-Up: What Did We Learn?\n",
    "- We practiced a **clean → explore → interpret** EDA loop.  \n",
    "- We read bar charts and heatmaps to describe **how** activity changed by **year**, **team**, and **event**.  \n",
    "- We identified **dataset gaps** (no positions/points), and proposed a **merge plan** for future work.\n",
    "\n",
    "> **Exit ticket:** Write 2–3 bullet points about Ricciardo’s career phases that you can defend using the visuals above."
   ]
  }
 ],
 "metadata": {
  "kernelspec": {
   "display_name": "Python 3",
   "name": "python3"
  }
 },
 "nbformat": 4,
 "nbformat_minor": 5
}
